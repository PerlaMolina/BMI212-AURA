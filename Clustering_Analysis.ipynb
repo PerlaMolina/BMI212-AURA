{
  "nbformat": 4,
  "nbformat_minor": 0,
  "metadata": {
    "colab": {
      "provenance": []
    },
    "kernelspec": {
      "name": "python3",
      "display_name": "Python 3"
    },
    "language_info": {
      "name": "python"
    }
  },
  "cells": [
    {
      "cell_type": "markdown",
      "source": [
        "code by: Micah Williams\n",
        "\n",
        "Clustering Analysis to Identify Potential ADHD Underdiagnosis in Females\n",
        "\n",
        "Goals:\n",
        "1. Using all participants to find \"control\" females that appear ADHD-like compared to all data (with and without functional connectome (FC) data)\n",
        "2. Using Female participants only to account for possible sex differences in ADHD expression (with and without FC)\n",
        "\n",
        "Methods:\n",
        "*   KNN- identify \"control\" females with primarily ADHD neighbors\n",
        "*   KMeans clustering - identify \"control\" females in ADHD-like cluster + visualize\n",
        "*   Hierarchical clustering - identify \"control\" females in ADHD-like cluster + visualize\n",
        "*   For all clustering approaches, compare potentially misdiagnosed controls in M vs F to see if rates are similar\n",
        "\n",
        "Combining Results:\n",
        "*  Create df with all potentially misdiagnosed \"control\" F to see how many participants are consistently flagged\n",
        "\n"
      ],
      "metadata": {
        "id": "fOc5RB0mVFek"
      }
    },
    {
      "cell_type": "code",
      "execution_count": 1,
      "metadata": {
        "id": "M4yJfsyYsQ0V"
      },
      "outputs": [],
      "source": [
        "#all imports\n",
        "import pandas as pd\n",
        "import os\n",
        "from sklearn.preprocessing import StandardScaler\n",
        "from sklearn.impute import KNNImputer\n",
        "from sklearn.neighbors import NearestNeighbors\n",
        "from collections import Counter\n",
        "from sklearn.cluster import AgglomerativeClustering\n",
        "from sklearn.cluster import KMeans\n",
        "from sklearn.metrics import silhouette_score\n",
        "from sklearn.metrics import davies_bouldin_score\n",
        "from sklearn.metrics import confusion_matrix\n",
        "from sklearn.decomposition import PCA\n",
        "import umap.umap_ as umap\n",
        "import matplotlib.pyplot as plt\n",
        "import seaborn as sns\n"
      ]
    },
    {
      "cell_type": "code",
      "source": [
        "#load data\n",
        "from google.colab import drive\n",
        "drive.mount('/content/drive/')\n",
        "file_path = '/content/drive/My Drive/MicahWIDSdata/'\n",
        "behavioral_data = pd.read_excel(file_path+'TRAIN_QUANTITATIVE_METADATA_.xlsx')\n",
        "demographic_data = pd.read_excel(file_path + 'TRAIN_CATEGORICAL_METADATA_new.xlsx')\n",
        "label_data = pd.read_excel(file_path+'TRAINING_SOLUTIONS.xlsx')\n",
        "connectome = pd.read_csv(file_path + 'FC_extracted.csv')\n",
        "connectome = connectome.drop(columns = ['Unnamed: 0'])"
      ],
      "metadata": {
        "colab": {
          "base_uri": "https://localhost:8080/"
        },
        "id": "mq1clI14sWBt",
        "outputId": "315db574-71fd-43dc-8572-d6afe7f80fe7"
      },
      "execution_count": 2,
      "outputs": [
        {
          "output_type": "stream",
          "name": "stdout",
          "text": [
            "Drive already mounted at /content/drive/; to attempt to forcibly remount, call drive.mount(\"/content/drive/\", force_remount=True).\n"
          ]
        }
      ]
    },
    {
      "cell_type": "code",
      "source": [
        "#helper functions\n",
        "def map_clusters_and_get_flags(clustering_df, method, flagged_ids, run_name):\n",
        "  \"\"\"maps clusters onto ADHD (1) vs control (0) using mean ADHD_Outcome in each group\n",
        "  (for visualization),then flags all non-ADHD participants assigned to the \"ADHD-like\" cluster,\n",
        "  and adds then to flagged_ids df\"\"\"\n",
        "\n",
        "  cluster_means = clustering_df.groupby(method)['ADHD_Outcome'].mean()\n",
        "  adhd_cluster = cluster_means.idxmax()\n",
        "  control_cluster = cluster_means.idxmin()\n",
        "  clustering_df[method] = clustering_df[method].map({adhd_cluster: 1, control_cluster: 0})\n",
        "\n",
        "  #get non-ADHD females in \"ADHD\" cluster\n",
        "  flags = clustering_df[(clustering_df['Sex_F']==1) & (clustering_df['ADHD_Outcome'] == 0) & (clustering_df[method]==1)]\n",
        "  flagged_ids[f'{method}_{run_name}'] = flags['participant_id'].astype(str).tolist()\n",
        "\n",
        "def plot_clusters_PCA(X_scaled, clustering_df, method, file_path, run_name):\n",
        "  \"\"\"Applies PCA for dimension reduction and plots cluster labels vs. ADHD\n",
        "  outcomes from the data \"\"\"\n",
        "  pca = PCA(n_components=2)\n",
        "  X_pca = pca.fit_transform(X_scaled)\n",
        "  df = clustering_df.copy()\n",
        "  df['ADHD_Label'] = df['ADHD_Outcome'].map({0: '0 - Other', 1: '1 - ADHD'})\n",
        "  df['PC1'] = X_pca[:,0]\n",
        "  df['PC2'] = X_pca[:,1]\n",
        "  plt.figure(figsize=(10,8))\n",
        "  sns.scatterplot(data=df, x='PC1', y='PC2', hue='ADHD_Outcome', style=method, palette='Set1')\n",
        "  plt.title(f\"{method} Clustering vs ADHD labels (PCA) {run_name}\" )\n",
        "  plt.savefig(f\"{file_path}/{method}_clustering_PCA_{run_name}.png\")\n",
        "  plt.close()\n",
        "\n",
        "def plot_clusters_umap(X_scaled, clustering_df, method, file_path, run_name):\n",
        "  \"\"\"Applies UMAP for dimension reduction and plots cluster labels vs. ADHD\n",
        "  outcomes from the data \"\"\"\n",
        "  reducer = umap.UMAP()\n",
        "  X_umap = reducer.fit_transform(X_scaled)\n",
        "  df = clustering_df.copy()\n",
        "  df['ADHD_Label'] = df['ADHD_Outcome'].map({0: '0 - Other', 1: '1 - ADHD'})\n",
        "  df['UMAP1'] = X_umap[:, 0]\n",
        "  df['UMAP2'] = X_umap[:, 1]\n",
        "  plt.figure(figsize=(10, 8))\n",
        "  sns.scatterplot(data=df, x='UMAP1', y='UMAP2', hue='ADHD_Outcome', style=method, palette='Set1')\n",
        "  plt.title(f\"{method} Clustering vs ADHD labels (UMAP) {run_name}\")\n",
        "  plt.savefig(f\"{file_path}/{method}_clustering_UMAP_{run_name}.png\")\n",
        "  plt.close()\n",
        "\n",
        "def confusion_matrix_analysis(clustering_df, method, file_path, run_name):\n",
        "  \"\"\"creates and saves confusion matrices separately for female and male\n",
        "  (if all-participant run) participants to compare rates of potentially\n",
        "  mislablelling ADHD-like individuals\"\"\"\n",
        "  females = clustering_df[clustering_df['Sex_F'] ==1]\n",
        "  females_cm = confusion_matrix(females['ADHD_Outcome'], females[method], labels=[0, 1])\n",
        "  plt.figure(figsize=(5, 4))\n",
        "  sns.heatmap(females_cm, annot=True, fmt='d', cmap='Blues',\n",
        "            xticklabels=[\"Control\", \"ADHD\"], yticklabels=[\"Control\", \"ADHD\"])\n",
        "  plt.title(f\"{method} Confusion Matrix (F) {run_name}\")\n",
        "  plt.xlabel(\"Predicted\")\n",
        "  plt.ylabel(\"Actual\")\n",
        "  plt.tight_layout()\n",
        "  plt.savefig(f\"{file_path}/{method}_conf_matrix_F_{run_name}.png\")\n",
        "  plt.close()\n",
        "\n",
        "  if \"all\" in run_name:\n",
        "    males = clustering_df[clustering_df['Sex_F'] ==0]\n",
        "    males_cm = confusion_matrix(males['ADHD_Outcome'], males[method], labels=[0, 1])\n",
        "    plt.figure(figsize=(5, 4))\n",
        "    sns.heatmap(males_cm, annot=True, fmt='d', cmap='Blues',\n",
        "                xticklabels=[\"Control\", \"ADHD\"], yticklabels=[\"Control\", \"ADHD\"])\n",
        "    plt.title(f\"{method} Confusion Matrix (M) {run_name}\")\n",
        "    plt.xlabel(\"Predicted\")\n",
        "    plt.ylabel(\"Actual\")\n",
        "    plt.tight_layout()\n",
        "    plt.savefig(f\"{file_path}/{method}_conf_matrix_M_{run_name}.png\")\n",
        "    plt.close()"
      ],
      "metadata": {
        "id": "RE238B1b9XxI"
      },
      "execution_count": 3,
      "outputs": []
    },
    {
      "cell_type": "code",
      "source": [
        "#pipeline for analyses (knn, kmeans, hierarchical)\n",
        "\n",
        "#initialize one dict to store identified potential underdiagnosed F participants\n",
        "flagged_ids={}\n",
        "random_seed=0\n",
        "def clustering_analysis(feature_df, run_name , flagged_ids, file_path):\n",
        "  \"\"\"1. Makes folder to save this run's analyses, initializes clustering result df\n",
        "     2. imputes and scales X for clustering\n",
        "     3. Uses KNN to identify \"control\" females that have primarily \"ADHD\" neighbors\n",
        "     4. Uses hierarchical clustering to identify \"control\" females that fall in\n",
        "     \"ADHD-like\" cluster, evaluates clustering, plots w PCA and UMAP\n",
        "     5.Uses Kmeans clustering to identify \"control\" females that fall in\n",
        "     \"ADHD-like\" cluster, evaluates clustering, plots w PCA and UMAP\n",
        "     6. Creates confusion matrices \"\"\"\n",
        "\n",
        "  folder_path = os.path.join(file_path, run_name)\n",
        "  os.makedirs(folder_path, exist_ok=True)\n",
        "\n",
        "  #initialize clustering results df\n",
        "  clustering_df = feature_df[['participant_id', 'Sex_F', 'ADHD_Outcome']].copy()\n",
        "\n",
        "  #prep X- impute Nans w KNNImputer, then scale\n",
        "  X = feature_df.drop(columns = ['participant_id','Sex_F', 'ADHD_Outcome', 'MRI_Track_Age_at_Scan'])\n",
        "  imputer = KNNImputer(n_neighbors=5)\n",
        "  X_imputed = imputer.fit_transform(X)\n",
        "  X_scaled = StandardScaler().fit_transform(X_imputed)\n",
        "\n",
        "  #1. KNN\n",
        "  knn = NearestNeighbors(n_neighbors=6)\n",
        "  knn.fit(X_scaled)\n",
        "  #want to check neighbors for each \"non-ADHD\" female participant -> flag if majority are ADHD\n",
        "  control_f = feature_df[(feature_df['ADHD_Outcome']==0) & (feature_df['Sex_F'] ==1)].index\n",
        "  knn_flags=[]\n",
        "  for participant in control_f:\n",
        "    _, indices = knn.kneighbors([X_scaled[participant]])\n",
        "    neighbor_labels = feature_df.iloc[indices[0][1:]]['ADHD_Outcome'].values\n",
        "    most_common_label = Counter(neighbor_labels).most_common(1)[0][0]\n",
        "    if most_common_label ==1:\n",
        "          knn_flags.append(feature_df.loc[participant, 'participant_id'])\n",
        "\n",
        "  flagged_ids[f'knn_{run_name}'] = knn_flags\n",
        "\n",
        "  #2. Hierarchical clustering (Agglomerative)\n",
        "  agg_clustering = AgglomerativeClustering(n_clusters=2)\n",
        "  clustering_df['Hierarchical'] = agg_clustering.fit_predict(X_scaled)\n",
        "  #evaluate\n",
        "  agg_sscore = silhouette_score(X_scaled, agg_clustering.labels_ )\n",
        "  agg_dbscore = davies_bouldin_score(X_scaled, agg_clustering.labels_)\n",
        "  print(\"Hierarchical Silhouette score:\", agg_sscore, \"Davies-Bouldin score:\", agg_dbscore)\n",
        "  #if visualizing, run next 2 lines\n",
        "  map_clusters_and_get_flags(clustering_df, 'Hierarchical', flagged_ids, run_name)\n",
        "  plot_clusters_PCA(X_scaled, clustering_df, 'Hierarchical', folder_path, run_name)\n",
        "  plot_clusters_umap(X_scaled, clustering_df, 'Hierarchical', folder_path, run_name)\n",
        "\n",
        "  #3. KMeans clustering\n",
        "  kmeans = KMeans(n_clusters=2, random_state = random_seed)\n",
        "  clustering_df['Kmeans'] = kmeans.fit_predict(X_scaled)\n",
        "  #evaluate\n",
        "  kmeans_sscore = silhouette_score(X_scaled, kmeans.labels_ )\n",
        "  kmeans_dbscore = davies_bouldin_score(X_scaled, kmeans.labels_)\n",
        "  print(\"Kmeans Silhouette score:\", kmeans_sscore, \"Davies-Bouldin score:\", kmeans_dbscore)\n",
        "  #if visualizing, run next 2 lines\n",
        "  map_clusters_and_get_flags(clustering_df, 'Kmeans', flagged_ids, run_name)\n",
        "  plot_clusters_PCA(X_scaled, clustering_df, 'Kmeans', folder_path, run_name)\n",
        "  plot_clusters_umap(X_scaled, clustering_df, 'Kmeans', folder_path, run_name)\n",
        "\n",
        "\n",
        "  #4. Confusion matrix comparison\n",
        "  confusion_matrix_analysis(clustering_df, 'Hierarchical', folder_path, run_name)\n",
        "  confusion_matrix_analysis(clustering_df, 'Kmeans', folder_path, run_name)"
      ],
      "metadata": {
        "id": "AlQtM7N1sYpF"
      },
      "execution_count": 5,
      "outputs": []
    },
    {
      "cell_type": "code",
      "source": [
        "#RUN- All participants, without FC data\n",
        "feature_df = pd.merge(label_data, behavioral_data, how = 'left')\n",
        "clustering_analysis(feature_df, \"all participants\" , flagged_ids, file_path)"
      ],
      "metadata": {
        "id": "vlBzVugN6Fpb"
      },
      "execution_count": null,
      "outputs": []
    },
    {
      "cell_type": "code",
      "source": [
        "#RUN- F participants, without FC data\n",
        "f_labels = label_data[label_data['Sex_F']==1]\n",
        "feature_df = pd.merge(f_labels, behavioral_data, how = 'left')\n",
        "clustering_analysis(feature_df, \"female only\" , flagged_ids, file_path)"
      ],
      "metadata": {
        "id": "4_YRQ2k36QcT"
      },
      "execution_count": null,
      "outputs": []
    },
    {
      "cell_type": "code",
      "source": [
        "#NOT INCLUDED IN FINAL ANALYSIS- All participants, with FC data\n",
        "behavioral_label = pd.merge(label_data, behavioral_data, how = 'left')\n",
        "feature_df = pd.merge(behavioral_label, connectome, how='left')\n",
        "clustering_analysis(feature_df, \"all participants, FC included\" , flagged_ids, file_path)"
      ],
      "metadata": {
        "id": "EAnDcKEw9ENw",
        "collapsed": true
      },
      "execution_count": null,
      "outputs": []
    },
    {
      "cell_type": "code",
      "source": [
        "#NOT INCLUDED IN FINAL ANALYSIS- F participants, with FC data\n",
        "f_labels = label_data[label_data['Sex_F']==1]\n",
        "f_behavioral_label = pd.merge(f_labels, behavioral_data, how = 'left')\n",
        "feature_df = pd.merge(f_behavioral_label, connectome, how='left')\n",
        "clustering_analysis(feature_df, \"female only, FC included\" , flagged_ids, file_path)"
      ],
      "metadata": {
        "id": "OoL3fuZD9qlE",
        "collapsed": true
      },
      "execution_count": null,
      "outputs": []
    },
    {
      "cell_type": "code",
      "source": [
        "#Create df of all flagged participants (control F predicted as ADHD), including number of times flagged\n",
        "all_ids = set()\n",
        "for ids in flagged_ids.values():\n",
        "    all_ids.update(str(id_) for id_ in ids)\n",
        "\n",
        "flagged_df = pd.DataFrame({'participant_id': list(all_ids)})\n",
        "\n",
        "for method, ids in flagged_ids.items():\n",
        "    ids_set = set(str(id_) for id_ in ids)\n",
        "    flagged_df[method] = flagged_df['participant_id'].apply(lambda x: 1 if x in ids_set else 0)\n",
        "flagged_df['num_flags'] = flagged_df.drop(columns='participant_id').sum(axis=1)\n",
        "flagged_df.to_csv(file_path + 'all_flagged_participants.csv', index=False)"
      ],
      "metadata": {
        "id": "ggkCZ7dx-JyU"
      },
      "execution_count": 8,
      "outputs": []
    }
  ]
}