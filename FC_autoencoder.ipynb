{
  "nbformat": 4,
  "nbformat_minor": 0,
  "metadata": {
    "colab": {
      "provenance": [],
      "gpuType": "T4",
      "include_colab_link": true
    },
    "kernelspec": {
      "name": "python3",
      "display_name": "Python 3"
    },
    "language_info": {
      "name": "python"
    },
    "accelerator": "GPU"
  },
  "cells": [
    {
      "cell_type": "markdown",
      "metadata": {
        "id": "view-in-github",
        "colab_type": "text"
      },
      "source": [
        "<a href=\"https://colab.research.google.com/github/PerlaMolina/BMI212-AURA/blob/main/FC_autoencoder.ipynb\" target=\"_parent\"><img src=\"https://colab.research.google.com/assets/colab-badge.svg\" alt=\"Open In Colab\"/></a>"
      ]
    },
    {
      "cell_type": "markdown",
      "source": [
        "autoencoder to extract / do feature selection on Functional Connectome Data"
      ],
      "metadata": {
        "id": "YvpeWfjOqu2t"
      }
    },
    {
      "cell_type": "code",
      "source": [
        "import torch\n",
        "device = torch.device('cuda' if torch.cuda.is_available() else 'cpu')\n",
        "print(f'Using device: {device}')"
      ],
      "metadata": {
        "colab": {
          "base_uri": "https://localhost:8080/"
        },
        "id": "Cdg63cahPJiR",
        "outputId": "e01aff01-e75e-4312-a376-21eb8956f9fc"
      },
      "execution_count": null,
      "outputs": [
        {
          "output_type": "stream",
          "name": "stdout",
          "text": [
            "Using device: cuda\n"
          ]
        }
      ]
    },
    {
      "cell_type": "code",
      "source": [
        "# load data\n",
        "from google.colab import drive\n",
        "import pandas as pd\n",
        "drive.mount('/content/drive/')\n",
        "file_path = '/content/drive/My Drive/widsdata/'\n"
      ],
      "metadata": {
        "id": "mWo7ZPiKnQ9R",
        "colab": {
          "base_uri": "https://localhost:8080/"
        },
        "outputId": "c4ee9afe-897c-4e9d-fc17-c44ee288bbbc"
      },
      "execution_count": null,
      "outputs": [
        {
          "output_type": "stream",
          "name": "stdout",
          "text": [
            "Drive already mounted at /content/drive/; to attempt to forcibly remount, call drive.mount(\"/content/drive/\", force_remount=True).\n"
          ]
        }
      ]
    },
    {
      "cell_type": "code",
      "source": [
        "import numpy as np\n",
        "import pandas as pd\n",
        "import pickle\n",
        "import os\n",
        "from random import seed\n",
        "import matplotlib.pyplot as plt\n",
        "behavorial_data = pd.read_excel(file_path+'TRAIN_QUANTITATIVE_METADATA_new.xlsx')\n",
        "label_data = pd.read_excel(file_path+'TRAINING_SOLUTIONS.xlsx')\n",
        "FC_data = pd.read_csv(file_path+ 'TRAIN_FUNCTIONAL_CONNECTOME_MATRICES_new_36P_Pearson.csv')\n",
        "\n",
        "seed(0)\n",
        "all_data_with_label = pd.merge(behavorial_data, label_data, how= 'left', on= ['participant_id'])\n",
        "all_data_with_label = pd.merge(all_data_with_label, FC_data, how= 'left', on= ['participant_id'])\n",
        "all_data_with_label['stratify'] = all_data_with_label['Sex_F'].astype(str) + '_' + all_data_with_label['ADHD_Outcome'].astype(str)\n",
        "\n",
        "# drop NAN\n",
        "all_data_with_label = all_data_with_label.dropna()\n",
        "\n",
        "# drop columns not related to ADHD: \"EHQ_EHQ_Total\" - Laterality Index (Score), \"ColorVision_CV_Score\" - Color vision test score\n",
        "all_data_with_label = all_data_with_label.drop(columns=['EHQ_EHQ_Total', 'ColorVision_CV_Score'])\n"
      ],
      "metadata": {
        "id": "BsgP7W2RqmyO"
      },
      "execution_count": null,
      "outputs": []
    },
    {
      "cell_type": "markdown",
      "source": [
        "Custom Dataset Clas"
      ],
      "metadata": {
        "id": "gNu8N6Ucv1FS"
      }
    },
    {
      "cell_type": "code",
      "source": [
        "from torch.utils.data import Dataset, DataLoader\n",
        "\n",
        "class LoadWidsDataset(Dataset):\n",
        "    def __init__(self, train_df, label_column, transform=None):\n",
        "\n",
        "      train_df_copy = train_df.copy().reset_index(drop=True)\n",
        "      self.dataframe = train_df_copy\n",
        "      self.transform = transform\n",
        "      self.features = train_df_copy.drop(columns=[label_column])\n",
        "      self.labels = train_df_copy[label_column]\n",
        "\n",
        "    def __len__(self):\n",
        "        return len(self.dataframe)\n",
        "\n",
        "    def __getitem__(self, idx):\n",
        "\n",
        "        feature = torch.tensor(self.features.iloc[idx].values, dtype=torch.float32)\n",
        "\n",
        "        label = torch.tensor(self.labels.iloc[idx], dtype=torch.float32)\n",
        "        return feature, label\n",
        "\n"
      ],
      "metadata": {
        "id": "Y2m1VCNYuNcC"
      },
      "execution_count": null,
      "outputs": []
    },
    {
      "cell_type": "markdown",
      "source": [
        "autoencoder\n",
        "\n",
        "autoencoder structure references: https://www.cs.toronto.edu/~lczhang/360/lec/w05/autoencoder.html#Transpose-Convolutions-and-Autoencoders"
      ],
      "metadata": {
        "id": "zLbvGQtRL8YU"
      }
    },
    {
      "cell_type": "code",
      "execution_count": null,
      "metadata": {
        "id": "TcFVR8S9nFu_"
      },
      "outputs": [],
      "source": [
        "import torch\n",
        "import torch.nn as nn\n",
        "import torch.nn.functional as F\n",
        "import torch.optim as optim\n",
        "import matplotlib.pyplot as plt\n",
        "\n",
        "class FC_Autoencoder(nn.Module):\n",
        "    def __init__(self):\n",
        "        super().__init__()      ### init the super class\n",
        "\n",
        "        latent_dim = [8000, 3000, 1000, 500, 100, 50] # arbitrary chosen (in general *0.5 or less of the previous layer)\n",
        "\n",
        "        encoder_layers = []\n",
        "        prev_dim = 19900\n",
        "\n",
        "        for dim in latent_dim:\n",
        "            encoder_layers.extend([\n",
        "                nn.Linear(prev_dim, dim),\n",
        "                nn.BatchNorm1d(dim),\n",
        "                nn.ReLU(),\n",
        "                nn.Dropout(0.3) # tried 0.3 for dropout rate bc total data = 812, which is small, need to prevent overfit\n",
        "            ])\n",
        "            prev_dim = dim\n",
        "\n",
        "        encoder_layers = encoder_layers[:-2]  # use linear features for classification\n",
        "        self.encoder = nn.Sequential(*encoder_layers)\n",
        "\n",
        "\n",
        "        decoder_layers = []\n",
        "        reversed_dims = list(reversed(latent_dim[:-1])) + [19900]\n",
        "        prev_dim = latent_dim[-1]\n",
        "\n",
        "        for i, dim in enumerate(reversed_dims):\n",
        "            decoder_layers.extend([\n",
        "                nn.Linear(prev_dim, dim),\n",
        "                nn.BatchNorm1d(dim) if i < len(reversed_dims) - 1 else nn.Identity(),\n",
        "                nn.ReLU() if i < len(reversed_dims) - 1 else nn.Tanh(),\n",
        "                nn.Dropout(0.3) if i < len(reversed_dims) - 1 else nn.Identity()\n",
        "            ])\n",
        "            # the last layer is outputed by Tanh, which gives values between -1 to 1, which is the same as the FC input\n",
        "            prev_dim = dim\n",
        "\n",
        "        self.decoder = nn.Sequential(*decoder_layers)\n",
        "\n",
        "\n",
        "    def forward(self, x):\n",
        "        encoded = self.encoder(x)\n",
        "        decoded = self.decoder(encoded)\n",
        "        return decoded\n",
        "\n",
        "    def encode(self, x):\n",
        "      return self.encoder(x)\n"
      ]
    },
    {
      "cell_type": "code",
      "source": [
        "FC_columns_names = [x for x in FC_data.columns if 'row' in x and 'column' in x and 'th' in x]\n",
        "\n",
        "# all\n",
        "FC_all_subjects_train = all_data_with_label.drop(columns=['participant_id', 'Sex_F', 'stratify'])\n",
        "FC_all_subjects_train = FC_all_subjects_train[FC_columns_names + ['ADHD_Outcome']]\n",
        "\n",
        "# data loader\n",
        "all_subject_loader = DataLoader(LoadWidsDataset(FC_all_subjects_train,label_column = 'ADHD_Outcome' ),\n",
        "                                             batch_size= 50, shuffle=True)\n",
        "\n",
        "\n",
        "# training\n",
        "model = FC_Autoencoder().to(device)\n",
        "criterion = nn.MSELoss()\n",
        "optimizer = torch.optim.Adam(model.parameters(), lr=1e-3, weight_decay=1e-5)\n",
        "\n",
        "train_losses = []\n",
        "num_epochs = 1000\n",
        "\n",
        "for epoch in range(num_epochs):\n",
        "\n",
        "    model.train()\n",
        "    train_loss = 0.0\n",
        "    num_batches = 0\n",
        "\n",
        "    for FC_data_i, _ in all_subject_loader :\n",
        "        FC_data_i = FC_data_i.to(device)\n",
        "\n",
        "        reconstruction = model(FC_data_i)\n",
        "        loss = criterion(reconstruction, FC_data_i)\n",
        "\n",
        "        optimizer.zero_grad()\n",
        "        loss.backward()\n",
        "        optimizer.step() # update weights\n",
        "\n",
        "        train_loss += loss.item()\n",
        "        num_batches += 1\n",
        "\n",
        "\n",
        "    train_losses.append(train_loss / num_batches)\n"
      ],
      "metadata": {
        "id": "cdywYAMGRRpI"
      },
      "execution_count": null,
      "outputs": []
    },
    {
      "cell_type": "code",
      "source": [
        "fig, ax = plt.subplots(1,1)\n",
        "ax.plot(train_losses)\n",
        "plt.title('MSE loss over 1000 epochs')"
      ],
      "metadata": {
        "colab": {
          "base_uri": "https://localhost:8080/",
          "height": 469
        },
        "id": "Ag6wKQ8NSCbA",
        "outputId": "dc6a9517-8cdc-46b5-805f-a325db7c1410"
      },
      "execution_count": null,
      "outputs": [
        {
          "output_type": "execute_result",
          "data": {
            "text/plain": [
              "Text(0.5, 1.0, 'MSE loss over 1000 epochs')"
            ]
          },
          "metadata": {},
          "execution_count": 27
        },
        {
          "output_type": "display_data",
          "data": {
            "text/plain": [
              "<Figure size 640x480 with 1 Axes>"
            ],
            "image/png": "[encoded data removed]"
          },
          "metadata": {}
        }
      ]
    },
    {
      "cell_type": "code",
      "source": [
        "torch.save(model, file_path+'autoencoder/FC_autoencoder')\n",
        "torch.save(model.state_dict(), file_path+'autoencoder/FC_autoencoder_stateDict')"
      ],
      "metadata": {
        "id": "OIZvHPRaVw5E"
      },
      "execution_count": null,
      "outputs": []
    },
    {
      "cell_type": "markdown",
      "source": [
        "feature extraction"
      ],
      "metadata": {
        "id": "ZHgADftFqmx2"
      }
    },
    {
      "cell_type": "code",
      "source": [
        "model.eval()\n",
        "all_subject_with_id_df = all_data_with_label.drop(columns=['Sex_F', 'stratify', 'ADHD_Outcome']) [FC_columns_names + ['participant_id']]\n",
        "\n",
        "all_subject_with_id = all_subject_with_id_df.reset_index(drop=True, inplace=True)\n",
        "\n",
        "output = []\n",
        "for idx, _ in all_subject_with_id_df.iterrows():\n",
        "  df_i = all_subject_with_id_df.iloc[idx]\n",
        "  ID_i = df_i['participant_id']\n",
        "  FC_data_i = torch.tensor(all_subject_with_id_df[FC_columns_names].iloc[idx].values, dtype = torch.float32)\n",
        "  with torch.no_grad():\n",
        "    FC_data_i = FC_data_i.unsqueeze(0).to(device)\n",
        "    encoded_i = model.encode(FC_data_i)\n",
        "    encoded_i = encoded_i.cpu().numpy().squeeze(0)\n",
        "\n",
        "  output.append([ID_i] + encoded_i.tolist())\n",
        "\n",
        "\n"
      ],
      "metadata": {
        "id": "xY68WsY0szLa"
      },
      "execution_count": null,
      "outputs": []
    },
    {
      "cell_type": "code",
      "source": [
        "FC_extracted_names = ['extracted_FC_'+ str(i) for i in range(50)]\n",
        "FC_extracted = pd.DataFrame(output, columns=['participant_id'] + FC_extracted_names)\n",
        "FC_extracted.to_csv(file_path+'autoencoder/FC_extracted.csv')"
      ],
      "metadata": {
        "id": "GprkVb096Kqs"
      },
      "execution_count": null,
      "outputs": []
    },
    {
      "cell_type": "markdown",
      "source": [
        "feature extraction function for future use"
      ],
      "metadata": {
        "id": "fk3X9Z0m8qzv"
      }
    },
    {
      "cell_type": "code",
      "source": [
        "def feature_extraction_AC(path_to_model, data_df):\n",
        "  model_feature = FC_Autoencoder()\n",
        "  model_feature.load_state_dict(torch.load(path_to_model))\n",
        "  model_feature.eval()\n",
        "  model_feature.to(device)\n",
        "\n",
        "  output = []\n",
        "  for idx, _ in data_df.iterrows():\n",
        "    df_i = data_df.iloc[idx]\n",
        "    ID_i = df_i['participant_id']\n",
        "    FC_data_i = torch.tensor(data_df[FC_columns_names].iloc[idx].values, dtype = torch.float32)\n",
        "    with torch.no_grad():\n",
        "      FC_data_i = FC_data_i.unsqueeze(0).to(device)\n",
        "      encoded_i = model_feature.encode(FC_data_i)\n",
        "      encoded_i = encoded_i.cpu().numpy().squeeze(0)\n",
        "\n",
        "    output.append([ID_i] + encoded_i.tolist())\n",
        "\n",
        "  return output"
      ],
      "metadata": {
        "id": "kIMv70rx8cvH"
      },
      "execution_count": null,
      "outputs": []
    },
    {
      "cell_type": "markdown",
      "source": [],
      "metadata": {
        "id": "hTvo8-0eqRNx"
      }
    },
    {
      "cell_type": "markdown",
      "source": [],
      "metadata": {
        "id": "UxWTiwihU5zp"
      }
    }
  ]
}